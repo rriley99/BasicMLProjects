{
 "cells": [
  {
   "cell_type": "code",
   "execution_count": 1,
   "metadata": {},
   "outputs": [],
   "source": [
    "\"\"\"Working through the 'Mini-Course' from MachineLearningMastery: https://machinelearningmastery.com/imbalanced-classification-with-python-7-day-mini-course/\n",
    "Q: What is an imbalanced classification problem and why do we care? \n",
    "A: A classification problem where the classes are not split evenly is an imbalanced classification problem. The issue with\n",
    "   problems like this is that a generic model will suffer from poor performance due to the data imbalance. These problems \n",
    "   will be pretty common, like a fraudulent credit card model, where 1/100,000 transactions is fraudulent. \n",
    "This notebook will cover all lessons:\n",
    "Lesson 01: Challenge of Imbalanced Classification\n",
    "Lesson 02: Intuition for Imbalanced Data\n",
    "Lesson 03: Evaluate Imbalanced Classification Models\n",
    "Lesson 04: Undersampling the Majority Class\n",
    "Lesson 05: Oversampling the Minority Class\n",
    "Lesson 06: Combine Data Undersampling and Oversampling\n",
    "Lesson 07: Cost-Sensitive Algorithms\n",
    "\"\"\""
   ]
  },
  {
   "cell_type": "code",
   "execution_count": null,
   "metadata": {},
   "outputs": [],
   "source": [
    "#Lesson 01: Challenge of Imbalanced Classification\n",
    "\"\"\"Examples for Imbalanced Classification:\n",
    "1. Fraudulent Credit Card Transaction Detection\n",
    "2. Genetic Screening\n",
    "3. Mechanical Breakdown Prediction \n",
    "4. Anything related to Churn possibly\n",
    "5. Webpage Ad Analytics\n",
    "6. Diabetes screening\n",
    "\"\"\""
   ]
  },
  {
   "cell_type": "code",
   "execution_count": 4,
   "metadata": {},
   "outputs": [
    {
     "name": "stdout",
     "output_type": "stream",
     "text": [
      "Counter({0: 900, 1: 100})\n"
     ]
    },
    {
     "data": {
      "image/png": "[encoded data removed]",
      "text/plain": [
       "<Figure size 432x288 with 1 Axes>"
      ]
     },
     "metadata": {
      "needs_background": "light"
     },
     "output_type": "display_data"
    }
   ],
   "source": [
    "#Lesson 02: Intuition for Imbalanced Data\n",
    "\"\"\"Below we will create some generic classification dataset with sklearns make_classification.\n",
    "Class 1: 90% Class 2: 10%, so highly imbalanced. We will then plot with pyplot to visualize.\"\"\"\n",
    "# plot imbalanced classification problem\n",
    "from collections import Counter\n",
    "from sklearn.datasets import make_classification\n",
    "from matplotlib import pyplot\n",
    "from numpy import where\n",
    "\n",
    "# define dataset\n",
    "X, y = make_classification(n_samples=1000, n_features=2, n_redundant=0, n_clusters_per_class=1, weights=[0.90, 0.10], flip_y=0)\n",
    "\n",
    "# summarize class distribution\n",
    "counter = Counter(y)\n",
    "print(counter)\n",
    "\n",
    "# scatter plot of examples by class label\n",
    "for label, _ in counter.items():\n",
    "    row_ix = where(y == label)[0]\n",
    "    pyplot.scatter(X[row_ix, 0], X[row_ix, 1], label=str(label))\n",
    "pyplot.legend()\n",
    "pyplot.show()"
   ]
  },
  {
   "cell_type": "code",
   "execution_count": 11,
   "metadata": {},
   "outputs": [
    {
     "name": "stdout",
     "output_type": "stream",
     "text": [
      "Accuracy: 0.992\n",
      "Precision: 0.991\n",
      "Recall: 0.926\n",
      "F-measure: 0.958\n",
      "Fbeta-measure(beta=1): 0.958\n",
      "Fbeta-measure(beta=0.5): 0.978\n",
      "Fbeta-measure(beta=2): 0.938\n"
     ]
    }
   ],
   "source": [
    "#Lesson 03: Evaluate Imbalanced Classification Models\n",
    "\"\"\"We will answer the question of how to evaluate these models. The typical evaluation metric is accuracy, which is a foolish\n",
    "metric for these kinds of problems as labeling everything as class 1 and yield high accuracy, proportional the the skew.\n",
    "Now what about Precision/Recall? Maximizing precision will minimize the false positives, and maximizing recall will minimize \n",
    "false negatives. Both of these are useful, so we will use both. Introducing the F-score. Where:\n",
    "F-score = (2 * Precision * Recall) / (Precision + Recall)\n",
    "The F-measure is calculated as the harmonic mean of precision and recall, giving each the same weighting, so it's a good place \n",
    "to start, let's do an example.\"\"\"\n",
    "\n",
    "from sklearn.datasets import make_classification\n",
    "from sklearn.model_selection import train_test_split\n",
    "from sklearn.linear_model import LogisticRegression\n",
    "from sklearn.metrics import accuracy_score\n",
    "from sklearn.metrics import precision_score\n",
    "from sklearn.metrics import recall_score\n",
    "from sklearn.metrics import f1_score\n",
    "\n",
    "# generate dataset like above\n",
    "X, y = make_classification(n_samples=10000, n_features=2, n_redundant=0, n_clusters_per_class=1, weights=[0.90], flip_y=0)\n",
    "\n",
    "# split into train/test sets with same class ratio\n",
    "trainX, testX, trainy, testy = train_test_split(X, y, test_size=0.5, stratify=y)\n",
    "\n",
    "# define some arbitrary model\n",
    "model = LogisticRegression(solver='liblinear')\n",
    "\n",
    "# fit model\n",
    "model.fit(trainX, trainy)\n",
    "\n",
    "# predict on test set\n",
    "yhat = model.predict(testX)\n",
    "\n",
    "# evaluate predictions\n",
    "print('Accuracy: %.3f' % accuracy_score(testy, yhat))\n",
    "print('Precision: %.3f' % precision_score(testy, yhat))\n",
    "print('Recall: %.3f' % recall_score(testy, yhat))\n",
    "print('F-measure: %.3f' % f1_score(testy, yhat))\n",
    "\n",
    "\"\"\"As we can see that accuracy was probably great, but since the weighting is 90% class 1, how much of a model is this? Could be as \n",
    "simple as input value = class 1, and it would still be right 90% of the time. Let's look at another scoring metric:\n",
    "Fbeta-measure: https://machinelearningmastery.com/fbeta-measure-for-machine-learning/\n",
    "The Fbeta-measure skews the weighting of the average between precision and recall. The \"beta\" is a constant for skewing the weight \n",
    "of the score between favoring precision (beta<1), favoring recall (beta>1). A beta = 1 is just the regular f-score.\n",
    "\"\"\"\n",
    "\n",
    "from sklearn.metrics import fbeta_score\n",
    "print('Fbeta-measure(beta=1): %.3f' % fbeta_score(testy, yhat, beta=1))\n",
    "print('Fbeta-measure(beta=0.5): %.3f' % fbeta_score(testy, yhat, beta=0.5))\n",
    "print('Fbeta-measure(beta=2): %.3f' % fbeta_score(testy, yhat, beta=2))\n"
   ]
  },
  {
   "cell_type": "code",
   "execution_count": 4,
   "metadata": {},
   "outputs": [
    {
     "name": "stdout",
     "output_type": "stream",
     "text": [
      "Counter({0: 9900, 1: 100})\n",
      "Counter({0: 200, 1: 100})\n",
      "Accuracy: 0.993\n",
      "Precision: 1.000\n",
      "Recall: 0.980\n",
      "F-measure: 0.990\n"
     ]
    }
   ],
   "source": [
    "#Lesson 04: Undersampling the Majority Class\n",
    "\"\"\"One option to solve this issue is to resample the data to get a better distribution. There is a library \"imbalanced-learn\".\n",
    "\"\"\"\n",
    "from collections import Counter\n",
    "from sklearn.datasets import make_classification\n",
    "from imblearn.under_sampling import RandomUnderSampler\n",
    "\n",
    "# generate dataset\n",
    "X, y = make_classification(n_samples=10000, n_features=2, n_redundant=0, n_clusters_per_class=1, weights=[0.99, 0.01], flip_y=0)\n",
    "\n",
    "# summarize class distribution\n",
    "print(Counter(y))\n",
    "\n",
    "# define undersample strategy\n",
    "undersample = RandomUnderSampler(sampling_strategy=0.5)\n",
    "\n",
    "# fit and apply the transform\n",
    "X_under, y_under = undersample.fit_resample(X, y)\n",
    "\n",
    "# summarize class distribution\n",
    "print(Counter(y_under))\n",
    "\n",
    "# re-do the model from above\n",
    "from sklearn.model_selection import train_test_split\n",
    "from sklearn.linear_model import LogisticRegression\n",
    "from sklearn.metrics import accuracy_score\n",
    "from sklearn.metrics import precision_score\n",
    "from sklearn.metrics import recall_score\n",
    "from sklearn.metrics import f1_score\n",
    "\n",
    "trainX, testX, trainy, testy = train_test_split(X_under, y_under, test_size=0.5, stratify=y_under)\n",
    "model = LogisticRegression(solver='liblinear')\n",
    "model.fit(trainX, trainy)\n",
    "yhat = model.predict(testX)\n",
    "\n",
    "print('Accuracy: %.3f' % accuracy_score(testy, yhat))\n",
    "print('Precision: %.3f' % precision_score(testy, yhat))\n",
    "print('Recall: %.3f' % recall_score(testy, yhat))\n",
    "print('F-measure: %.3f' % f1_score(testy, yhat))"
   ]
  },
  {
   "cell_type": "code",
   "execution_count": 6,
   "metadata": {},
   "outputs": [
    {
     "name": "stdout",
     "output_type": "stream",
     "text": [
      "Counter({0: 9900, 1: 100})\n",
      "Counter({0: 9900, 1: 4950})\n",
      "Accuracy: 1.000\n",
      "Precision: 1.000\n",
      "Recall: 1.000\n",
      "F-measure: 1.000\n"
     ]
    }
   ],
   "source": [
    "#Lesson 05: Oversampling the Minority Class\n",
    "\"\"\"And as no surprise another option is to do the opposite, and oversample the minority class. We will look at \n",
    "Synthetic Minority Oversampling Technique (SMOTE). This does a little more than duplicating the minority class, it does so with \n",
    "tiny variations in values, using k-nearest clustering.\"\"\"\n",
    "\n",
    "from collections import Counter\n",
    "from sklearn.datasets import make_classification\n",
    "from imblearn.over_sampling import SMOTE\n",
    "\n",
    "# generate dataset\n",
    "X, y = make_classification(n_samples=10000, n_features=2, n_redundant=0, n_clusters_per_class=1, weights=[0.99, 0.01], flip_y=0)\n",
    "\n",
    "# summarize class distribution\n",
    "print(Counter(y))\n",
    "\n",
    "# define oversample strategy\n",
    "oversample = SMOTE(sampling_strategy=0.5)\n",
    "\n",
    "# fit and apply the transform\n",
    "X_over, y_over = oversample.fit_resample(X, y)\n",
    "\n",
    "# summarize class distribution\n",
    "print(Counter(y_over))\n",
    "\n",
    "# re-do the model from above\n",
    "from sklearn.model_selection import train_test_split\n",
    "from sklearn.linear_model import LogisticRegression\n",
    "from sklearn.metrics import accuracy_score\n",
    "from sklearn.metrics import precision_score\n",
    "from sklearn.metrics import recall_score\n",
    "from sklearn.metrics import f1_score\n",
    "\n",
    "trainX, testX, trainy, testy = train_test_split(X_over, y_over, test_size=0.5, stratify=y_over)\n",
    "model = LogisticRegression(solver='liblinear')\n",
    "model.fit(trainX, trainy)\n",
    "yhat = model.predict(testX)\n",
    "\n",
    "print('Accuracy: %.3f' % accuracy_score(testy, yhat))\n",
    "print('Precision: %.3f' % precision_score(testy, yhat))\n",
    "print('Recall: %.3f' % recall_score(testy, yhat))\n",
    "print('F-measure: %.3f' % f1_score(testy, yhat))"
   ]
  },
  {
   "cell_type": "code",
   "execution_count": 8,
   "metadata": {},
   "outputs": [
    {
     "name": "stdout",
     "output_type": "stream",
     "text": [
      "Counter({0: 9900, 1: 100})\n",
      "Counter({0: 9900, 1: 4950})\n",
      "Accuracy: 1.000\n",
      "Precision: 1.000\n",
      "Recall: 1.000\n",
      "F-measure: 1.000\n"
     ]
    }
   ],
   "source": [
    "#Lesson 06: Combine Data Undersampling and Oversampling\n",
    "\"\"\"Naturally the next step is to find use for both of these processes. There are a few techniques:\n",
    "* Random Undersampling with SMOTE oversampling.\n",
    "* Tomek Links Undersampling with SMOTE oversampling.\n",
    "* Edited Nearest Neighbors Undersampling with SMOTE oversampling.\n",
    "The below example will use the SMOTEENN class to perform over-sampling using SMOTE and cleaning using ENN.\"\"\"\n",
    "\n",
    "from collections import Counter\n",
    "from sklearn.datasets import make_classification\n",
    "from imblearn.combine import SMOTEENN\n",
    "# generate dataset\n",
    "X, y = make_classification(n_samples=10000, n_features=2, n_redundant=0, n_clusters_per_class=1, weights=[0.99, 0.01], flip_y=0)\n",
    "# summarize class distribution\n",
    "print(Counter(y))\n",
    "# define sampling strategy\n",
    "sample = SMOTEENN(sampling_strategy=0.5)\n",
    "# fit and apply the transform\n",
    "X_smoteenn, y_smoteenn = sample.fit_resample(X, y)\n",
    "# summarize class distribution\n",
    "print(Counter(y_smoteenn))\n",
    "\n",
    "# re-do the model from above\n",
    "from sklearn.model_selection import train_test_split\n",
    "from sklearn.linear_model import LogisticRegression\n",
    "from sklearn.metrics import accuracy_score\n",
    "from sklearn.metrics import precision_score\n",
    "from sklearn.metrics import recall_score\n",
    "from sklearn.metrics import f1_score\n",
    "\n",
    "trainX, testX, trainy, testy = train_test_split(X_smoteenn, y_smoteenn, test_size=0.5, stratify=y_smoteenn)\n",
    "model = LogisticRegression(solver='liblinear')\n",
    "model.fit(trainX, trainy)\n",
    "yhat = model.predict(testX)\n",
    "\n",
    "print('Accuracy: %.3f' % accuracy_score(testy, yhat))\n",
    "print('Precision: %.3f' % precision_score(testy, yhat))\n",
    "print('Recall: %.3f' % recall_score(testy, yhat))\n",
    "print('F-measure: %.3f' % f1_score(testy, yhat))"
   ]
  },
  {
   "cell_type": "code",
   "execution_count": 9,
   "metadata": {},
   "outputs": [
    {
     "name": "stdout",
     "output_type": "stream",
     "text": [
      "F-Measure: 0.239\n"
     ]
    }
   ],
   "source": [
    "#Lesson 07: Cost-Sensitive Algorithms\n",
    "\"\"\"Cost-sensitive learning is a subfield of machine learning that takes the costs of prediction errors \n",
    "(and potentially other costs) into account when training a machine learning model. A highly relevant example\n",
    "is Covid-19 testing, where the cost of a false negative is far higher than a false positive. Cost-sensitive \n",
    "techniques may be divided into three groups: \n",
    "* Data resampling \n",
    "* Algorithm modifications\n",
    "* Ensemble methods.\n",
    "I didn't think the \"lesson\" gave enough detail, so may do an additional book concerning Cost-sensitive Algos.\n",
    "But below we will look at the class_weight attribute in the sk-learn algorthm LogisticRegression. Weights \n",
    "associated with classes are in the form {class_label: weight}, or 'balanced'.\n",
    "\"\"\"\n",
    "from sklearn.datasets import make_classification\n",
    "from sklearn.model_selection import train_test_split\n",
    "from sklearn.linear_model import LogisticRegression\n",
    "from sklearn.metrics import f1_score\n",
    "# generate dataset\n",
    "X, y = make_classification(n_samples=10000, n_features=2, n_redundant=0, n_clusters_per_class=1, weights=[0.99], flip_y=0)\n",
    "# split into train/test sets with same class ratio\n",
    "trainX, testX, trainy, testy = train_test_split(X, y, test_size=0.5, stratify=y)\n",
    "# define model\n",
    "model = LogisticRegression(solver='liblinear', class_weight='balanced')\n",
    "# fit model\n",
    "model.fit(trainX, trainy)\n",
    "# predict on test set\n",
    "yhat = model.predict(testX)\n",
    "# evaluate predictions\n",
    "print('F-Measure: %.3f' % f1_score(testy, yhat))"
   ]
  },
  {
   "cell_type": "code",
   "execution_count": null,
   "metadata": {},
   "outputs": [],
   "source": []
  }
 ],
 "metadata": {
  "kernelspec": {
   "display_name": ".venv",
   "language": "python",
   "name": ".venv"
  },
  "language_info": {
   "codemirror_mode": {
    "name": "ipython",
    "version": 3
   },
   "file_extension": ".py",
   "mimetype": "text/x-python",
   "name": "python",
   "nbconvert_exporter": "python",
   "pygments_lexer": "ipython3",
   "version": "3.7.3"
  }
 },
 "nbformat": 4,
 "nbformat_minor": 4
}
