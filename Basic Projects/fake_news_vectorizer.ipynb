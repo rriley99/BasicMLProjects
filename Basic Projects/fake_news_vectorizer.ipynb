{
 "cells": [
  {
   "cell_type": "code",
   "execution_count": 25,
   "metadata": {},
   "outputs": [
    {
     "name": "stdout",
     "output_type": "stream",
     "text": [
      "loaded\n"
     ]
    }
   ],
   "source": [
    "# Load Libraries\n",
    "import pandas as pd\n",
    "import numpy as np\n",
    "import itertools\n",
    "from sklearn.model_selection import train_test_split\n",
    "from sklearn.metrics import classification_report\n",
    "from sklearn.feature_extraction.text import TfidfVectorizer\n",
    "from sklearn.linear_model import PassiveAggressiveClassifier\n",
    "from sklearn.metrics import accuracy_score, confusion_matrix\n",
    "from matplotlib import pyplot\n",
    "print('loaded')"
   ]
  },
  {
   "cell_type": "code",
   "execution_count": 26,
   "metadata": {},
   "outputs": [
    {
     "name": "stdout",
     "output_type": "stream",
     "text": [
      "   Unnamed: 0                                              title  \\\n",
      "0        8476                       You Can Smell Hillary’s Fear   \n",
      "1       10294  Watch The Exact Moment Paul Ryan Committed Pol...   \n",
      "2        3608        Kerry to go to Paris in gesture of sympathy   \n",
      "3       10142  Bernie supporters on Twitter erupt in anger ag...   \n",
      "4         875   The Battle of New York: Why This Primary Matters   \n",
      "\n",
      "                                                text label  \n",
      "0  Daniel Greenfield, a Shillman Journalism Fello...  FAKE  \n",
      "1  Google Pinterest Digg Linkedin Reddit Stumbleu...  FAKE  \n",
      "2  U.S. Secretary of State John F. Kerry said Mon...  REAL  \n",
      "3  — Kaydee King (@KaydeeKing) November 9, 2016 T...  FAKE  \n",
      "4  It's primary day in New York and front-runners...  REAL  \n"
     ]
    },
    {
     "data": {
      "image/png": "[encoded data removed]",
      "text/plain": [
       "<Figure size 432x288 with 1 Axes>"
      ]
     },
     "metadata": {
      "needs_background": "light"
     },
     "output_type": "display_data"
    }
   ],
   "source": [
    "df = pd.read_csv('news.csv')\n",
    "print(df.head())\n",
    "\n",
    "labels = df['label']\n",
    "labels.head()\n",
    "\n",
    "#print(df.groupby(['label']).count())\n",
    "\n",
    "labels.hist()\n",
    "pyplot.show()\n"
   ]
  },
  {
   "cell_type": "code",
   "execution_count": 27,
   "metadata": {},
   "outputs": [],
   "source": [
    "# Partition the data\n",
    "X_train, X_validation, Y_train, Y_validation = train_test_split(df['text'], labels, test_size=0.20, random_state=1) # Split into test/validation data\n",
    "\n",
    "# Initialize TfidfVectorizer\n",
    "tfidf_vectorizer = TfidfVectorizer(stop_words='english', max_df=0.7)\n",
    "\n",
    "# Fit and transform\n",
    "tfidf_train = tfidf_vectorizer.fit_transform(X_train) \n",
    "tfidf_validation = tfidf_vectorizer.transform(X_validation)"
   ]
  },
  {
   "cell_type": "code",
   "execution_count": 28,
   "metadata": {},
   "outputs": [
    {
     "name": "stdout",
     "output_type": "stream",
     "text": [
      "Accuracy: 94.16%\n"
     ]
    }
   ],
   "source": [
    "# Initialize a PassiveAggressiveClassifier\n",
    "pac=PassiveAggressiveClassifier(max_iter=50)\n",
    "pac.fit(tfidf_train,Y_train)\n",
    "\n",
    "# Predict and calculate accuracy\n",
    "Y_pred=pac.predict(tfidf_validation)\n",
    "score=accuracy_score(Y_validation,Y_pred)\n",
    "print(f'Accuracy: {round(score*100,2)}%')"
   ]
  },
  {
   "cell_type": "code",
   "execution_count": 29,
   "metadata": {},
   "outputs": [
    {
     "name": "stdout",
     "output_type": "stream",
     "text": [
      "              precision    recall  f1-score   support\n",
      "\n",
      "        FAKE       0.95      0.94      0.94       651\n",
      "        REAL       0.93      0.95      0.94       616\n",
      "\n",
      "    accuracy                           0.94      1267\n",
      "   macro avg       0.94      0.94      0.94      1267\n",
      "weighted avg       0.94      0.94      0.94      1267\n",
      "\n"
     ]
    }
   ],
   "source": [
    "confusion_matrix(Y_validation,Y_pred, labels=['FAKE','REAL'])\n",
    "# 610 true positives, 583 true negatives, 33 false positives, and 41 false negatives\n",
    "print(classification_report(Y_validation, Y_pred))"
   ]
  },
  {
   "cell_type": "code",
   "execution_count": null,
   "metadata": {},
   "outputs": [],
   "source": [
    "#Lessons learned from this project\n",
    "\"\"\"A TfidfVectorizerConvert a collection of raw documents (news) to a matrix of TF-IDF features.\n",
    "it is the Equivalent to CountVectorizer followed by TfidfTransformer. The  CountVectorizer counts \n",
    "the number of words (term frequency), limits the vocabulary size, applies stop words, etc. Next, \n",
    "the TfidfTransformer adds weight to each word in the corpus. The tf–idf value increases proportionally\n",
    "to the number of times a word appears in the document and is offset by the number of documents in the\n",
    "corpus that contain the word. It is my understanding that we are then looking at what words are prominent in \n",
    "fake news and modeling off of that.\"\"\" "
   ]
  },
  {
   "cell_type": "code",
   "execution_count": null,
   "metadata": {},
   "outputs": [],
   "source": []
  }
 ],
 "metadata": {
  "kernelspec": {
   "display_name": ".venv",
   "language": "python",
   "name": ".venv"
  },
  "language_info": {
   "codemirror_mode": {
    "name": "ipython",
    "version": 3
   },
   "file_extension": ".py",
   "mimetype": "text/x-python",
   "name": "python",
   "nbconvert_exporter": "python",
   "pygments_lexer": "ipython3",
   "version": "3.7.3"
  }
 },
 "nbformat": 4,
 "nbformat_minor": 4
}
