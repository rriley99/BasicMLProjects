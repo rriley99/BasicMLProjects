{
 "cells": [
  {
   "cell_type": "code",
   "execution_count": 3,
   "id": "educational-taylor",
   "metadata": {},
   "outputs": [],
   "source": [
    "''' This workbook will cover the concept and execution of KNN Imputation.\n",
    "Using the k-nearest-neighbor algorithm to impute missing values has proven to generally effective.\n",
    "'''\n",
    "from numpy import mean, std\n",
    "from pandas import read_csv\n",
    "from sklearn.ensemble import RandomForestClassifier\n",
    "from sklearn.impute import KNNImputer\n",
    "from sklearn.model_selection import cross_val_score\n",
    "from sklearn.model_selection import RepeatedStratifiedKFold\n",
    "from sklearn.pipeline import Pipeline\n",
    "from matplotlib import pyplot"
   ]
  },
  {
   "cell_type": "code",
   "execution_count": 3,
   "id": "federal-great",
   "metadata": {},
   "outputs": [
    {
     "name": "stdout",
     "output_type": "stream",
     "text": [
      "Row 0: 0.33%\n",
      "Row 1: 0.0%\n",
      "Row 2: 0.0%\n",
      "Row 3: 20.0%\n",
      "Row 4: 8.0%\n",
      "Row 5: 19.33%\n",
      "Row 6: 18.67%\n",
      "Row 7: 23.0%\n",
      "Row 8: 15.67%\n",
      "Row 9: 10.67%\n",
      "Row 10: 18.33%\n",
      "Row 11: 14.67%\n",
      "Row 12: 18.67%\n",
      "Row 13: 34.67%\n",
      "Row 14: 35.33%\n",
      "Row 15: 82.33%\n",
      "Row 16: 34.0%\n",
      "Row 17: 39.33%\n",
      "Row 18: 9.67%\n",
      "Row 19: 11.0%\n",
      "Row 20: 55.0%\n",
      "Row 21: 66.0%\n",
      "Row 22: 0.33%\n",
      "Row 23: 0.0%\n",
      "Row 24: 0.0%\n",
      "Row 25: 0.0%\n",
      "Row 26: 0.0%\n",
      "Row 27: 0.0%\n"
     ]
    }
   ],
   "source": [
    "# Load and review the data\n",
    "dataframe = read_csv('https://raw.githubusercontent.com/jbrownlee/Datasets/master/horse-colic.csv', header=None, na_values='?')\n",
    "for i in range(dataframe.shape[1]):\n",
    "    # count number of rows with missing values\n",
    "    n_miss = dataframe[[i]].isnull().sum()\n",
    "    #print(n_miss)\n",
    "    perc = n_miss / dataframe.shape[0] * 100\n",
    "    print(f'Row {i}: {float(round(perc, 2))}%')\n",
    "    "
   ]
  },
  {
   "cell_type": "code",
   "execution_count": 5,
   "id": "eight-station",
   "metadata": {},
   "outputs": [
    {
     "name": "stdout",
     "output_type": "stream",
     "text": [
      "0.8688888888888887, 0.055733049795486454\n"
     ]
    }
   ],
   "source": [
    "''' Our first step is to define a general model of the process, much like what is outlined in the SimpleImputer Notebook.'''\n",
    "# read in data\n",
    "dataframe = read_csv('https://raw.githubusercontent.com/jbrownlee/Datasets/master/horse-colic.csv', header=None, na_values='?')\n",
    "data = dataframe.values\n",
    "ix = [i for i in range(data.shape[1]) if i != 23]\n",
    "X, y = data[:, ix], data[:, 23]\n",
    "\n",
    "# create pipeline\n",
    "pipeline = Pipeline(steps=[('i', KNNImputer()), ('m', RandomForestClassifier())])\n",
    "\n",
    "# evaluate\n",
    "cv = RepeatedStratifiedKFold(n_splits=10, n_repeats=3, random_state=1)\n",
    "scores = cross_val_score(pipeline, X, y, scoring='accuracy', cv=cv, n_jobs=-1)\n",
    "print(f'{mean(scores)}, {std(scores)}')\n",
    "\n",
    "''' In this example we have not defined our hyperparameter for the KNN algorithm, n_neighbors, \n",
    "below we will go further in depth with that'''"
   ]
  },
  {
   "cell_type": "code",
   "execution_count": 6,
   "id": "religious-stake",
   "metadata": {},
   "outputs": [
    {
     "name": "stdout",
     "output_type": "stream",
     "text": [
      "N_Neighbors (1): 0.8577777777777779, 0.05230489909306585\n",
      "N_Neighbors (3): 0.8633333333333333, 0.046626967240793966\n",
      "N_Neighbors (5): 0.8577777777777776, 0.05013561854523766\n",
      "N_Neighbors (7): 0.8655555555555555, 0.0505402907357518\n",
      "N_Neighbors (9): 0.857777777777778, 0.05704665623552637\n",
      "N_Neighbors (11): 0.861111111111111, 0.05516529594358404\n",
      "N_Neighbors (13): 0.8622222222222221, 0.051448164012400995\n",
      "N_Neighbors (15): 0.8633333333333334, 0.056009258493904694\n",
      "N_Neighbors (17): 0.8666666666666666, 0.059628479399994376\n",
      "N_Neighbors (19): 0.8622222222222223, 0.06130272988503875\n",
      "N_Neighbors (21): 0.8588888888888888, 0.057531526515553856\n"
     ]
    },
    {
     "data": {
      "image/png": "[encoded data removed]",
      "text/plain": [
       "<Figure size 432x288 with 1 Axes>"
      ]
     },
     "metadata": {
      "needs_background": "light"
     },
     "output_type": "display_data"
    }
   ],
   "source": [
    "''' Here we will repeat the process above, but iterate over some values to find the best option for the hyperparameter \n",
    "n_neighbors for the imputing model. '''\n",
    "\n",
    "# read in data\n",
    "dataframe = read_csv('https://raw.githubusercontent.com/jbrownlee/Datasets/master/horse-colic.csv', header=None, na_values='?')\n",
    "data = dataframe.values\n",
    "ix = [i for i in range(data.shape[1]) if i != 23]\n",
    "X, y = data[:, ix], data[:, 23]\n",
    "# create strategies, in this case odd numbers between 1-21\n",
    "results = list()\n",
    "strategies = [i for i in [1,3,5,7,9,11,13,15,17,19,21]]\n",
    "\n",
    "for s in strategies:\n",
    "# create pipeline\n",
    "    pipeline = Pipeline(steps=[('i', KNNImputer(n_neighbors=s)), ('m', RandomForestClassifier())])\n",
    "\n",
    "    # evaluate\n",
    "    cv = RepeatedStratifiedKFold(n_splits=10, n_repeats=3, random_state=1)\n",
    "    scores = cross_val_score(pipeline, X, y, scoring='accuracy', cv=cv, n_jobs=-1)\n",
    "    print(f'N_Neighbors ({s}): {mean(scores)}, {std(scores)}')\n",
    "    \n",
    "    # append results\n",
    "    results.append(scores)\n",
    "\n",
    "pyplot.boxplot(results, labels=strategies, showmeans=True)\n",
    "pyplot.show()\n",
    "''' In this case it appears that there is no substantial difference in the choice of the parameter. '''"
   ]
  },
  {
   "cell_type": "code",
   "execution_count": null,
   "id": "active-finland",
   "metadata": {},
   "outputs": [],
   "source": []
  }
 ],
 "metadata": {
  "kernelspec": {
   "display_name": "Python 3",
   "language": "python",
   "name": "python3"
  },
  "language_info": {
   "codemirror_mode": {
    "name": "ipython",
    "version": 3
   },
   "file_extension": ".py",
   "mimetype": "text/x-python",
   "name": "python",
   "nbconvert_exporter": "python",
   "pygments_lexer": "ipython3",
   "version": "3.7.6"
  }
 },
 "nbformat": 4,
 "nbformat_minor": 5
}
