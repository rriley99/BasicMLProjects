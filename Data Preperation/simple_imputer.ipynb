{
 "cells": [
  {
   "cell_type": "code",
   "execution_count": 28,
   "id": "indoor-rotation",
   "metadata": {},
   "outputs": [],
   "source": [
    "from numpy import isnan, mean, std\n",
    "from pandas import read_csv\n",
    "from sklearn.impute import SimpleImputer"
   ]
  },
  {
   "cell_type": "code",
   "execution_count": 19,
   "id": "seventh-nylon",
   "metadata": {},
   "outputs": [
    {
     "name": "stdout",
     "output_type": "stream",
     "text": [
      "Row 0: 0.33%\n",
      "Row 1: 0.0%\n",
      "Row 2: 0.0%\n",
      "Row 3: 20.0%\n",
      "Row 4: 8.0%\n",
      "Row 5: 19.33%\n",
      "Row 6: 18.67%\n",
      "Row 7: 23.0%\n",
      "Row 8: 15.67%\n",
      "Row 9: 10.67%\n",
      "Row 10: 18.33%\n",
      "Row 11: 14.67%\n",
      "Row 12: 18.67%\n",
      "Row 13: 34.67%\n",
      "Row 14: 35.33%\n",
      "Row 15: 82.33%\n",
      "Row 16: 34.0%\n",
      "Row 17: 39.33%\n",
      "Row 18: 9.67%\n",
      "Row 19: 11.0%\n",
      "Row 20: 55.0%\n",
      "Row 21: 66.0%\n",
      "Row 22: 0.33%\n",
      "Row 23: 0.0%\n",
      "Row 24: 0.0%\n",
      "Row 25: 0.0%\n",
      "Row 26: 0.0%\n",
      "Row 27: 0.0%\n"
     ]
    }
   ],
   "source": [
    "''' Read data in and take a look at missing data '''\n",
    "dataframe = read_csv('https://raw.githubusercontent.com/jbrownlee/Datasets/master/horse-colic.csv', header=None, na_values='?')\n",
    "\n",
    "for i in range(dataframe.shape[1]):\n",
    "    # count number of rows with missing values\n",
    "    n_miss = dataframe[[i]].isnull().sum()\n",
    "    #print(n_miss)\n",
    "    perc = n_miss / dataframe.shape[0] * 100\n",
    "    print(f'Row {i}: {float(round(perc, 2))}%')\n",
    "    "
   ]
  },
  {
   "cell_type": "code",
   "execution_count": 31,
   "id": "satellite-spanking",
   "metadata": {},
   "outputs": [
    {
     "name": "stdout",
     "output_type": "stream",
     "text": [
      "Missing: 0\n"
     ]
    }
   ],
   "source": [
    "''' Next we will look at the Simple Imputer'''\n",
    "dataframe = read_csv('https://raw.githubusercontent.com/jbrownlee/Datasets/master/horse-colic.csv', header=None, na_values='?')\n",
    "\n",
    "data = dataframe.values\n",
    "ix = [i for i in range(data.shape[1]) if i != 23]\n",
    "X, y = data[:, ix], data[:, 23]\n",
    "\n",
    "imputer = SimpleImputer(strategy='mean')\n",
    "imputer.fit(X)\n",
    "X_trans = imputer.transform(X)\n",
    "print(f'Missing: {sum(isnan(X_trans).flatten())}')"
   ]
  },
  {
   "cell_type": "code",
   "execution_count": 35,
   "id": "general-satisfaction",
   "metadata": {},
   "outputs": [
    {
     "name": "stdout",
     "output_type": "stream",
     "text": [
      "mean: 0.8577777777777779, 0.0537024265493092\n",
      "median: 0.8644444444444443, 0.0589622184952071\n",
      "most_frequent: 0.8744444444444445, 0.058171733834259665\n",
      "constant: 0.8755555555555556, 0.05230489909306586\n"
     ]
    }
   ],
   "source": [
    "''' Next we will evaluate a model with a Random Forest Classifier and iterate over the strategies for imputing. '''\n",
    "from pandas import read_csv\n",
    "from sklearn.ensemble import RandomForestClassifier\n",
    "from sklearn.impute import SimpleImputer\n",
    "from sklearn.model_selection import cross_val_score\n",
    "from sklearn.model_selection import RepeatedStratifiedKFold\n",
    "from sklearn.pipeline import Pipeline\n",
    "\n",
    "# read in data\n",
    "dataframe = read_csv('https://raw.githubusercontent.com/jbrownlee/Datasets/master/horse-colic.csv', header=None, na_values='?')\n",
    "data = dataframe.values\n",
    "ix = [i for i in range(data.shape[1]) if i != 23]\n",
    "X, y = data[:, ix], data[:, 23]\n",
    "\n",
    "# set strategies\n",
    "results = list()\n",
    "strategies = ['mean', 'median', 'most_frequent', 'constant']\n",
    "\n",
    "# iterate\n",
    "for s in strategies:\n",
    "    # generate pipeline\n",
    "    pipeline = Pipeline(steps=[('i', SimpleImputer(strategy=s)), ('m', RandomForestClassifier())])\n",
    "    \n",
    "    cv = RepeatedStratifiedKFold(n_splits=10, n_repeats=3, random_state=1)\n",
    "    scores = cross_val_score(pipeline, X, y, scoring='accuracy', cv=cv, n_jobs=-1)\n",
    "    results.append(scores)\n",
    "    print(f'{s}: {mean(scores)}, {std(scores)}')\n",
    "''' It is important to point out here that we are not using this to predict anything at the moment, and any dataset \n",
    "for such will also need to be transformed in the same fashion. '''"
   ]
  },
  {
   "cell_type": "code",
   "execution_count": null,
   "id": "entire-polls",
   "metadata": {},
   "outputs": [],
   "source": []
  }
 ],
 "metadata": {
  "kernelspec": {
   "display_name": "Python 3",
   "language": "python",
   "name": "python3"
  },
  "language_info": {
   "codemirror_mode": {
    "name": "ipython",
    "version": 3
   },
   "file_extension": ".py",
   "mimetype": "text/x-python",
   "name": "python",
   "nbconvert_exporter": "python",
   "pygments_lexer": "ipython3",
   "version": "3.7.6"
  }
 },
 "nbformat": 4,
 "nbformat_minor": 5
}
